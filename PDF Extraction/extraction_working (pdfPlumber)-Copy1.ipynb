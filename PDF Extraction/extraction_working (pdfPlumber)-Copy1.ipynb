{
 "cells": [
  {
   "cell_type": "markdown",
   "metadata": {},
   "source": [
    "### Use pdfplumber to convert pdf to text"
   ]
  },
  {
   "cell_type": "code",
   "execution_count": 1,
   "metadata": {},
   "outputs": [],
   "source": [
    "import pdfplumber\n",
    "import re\n",
    "\n",
    "document = ''\n",
    "with pdfplumber.open(r'A2014_40.pdf') as pdf:\n",
    "    list_of_pages = pdf.pages\n",
    "    for i in range(len(list_of_pages)):\n",
    "        current_page = pdf.pages[i].extract_text().strip()\n",
    "        current_page = \"\\n\".join(current_page.split(\"\\n\")[0:-1])    #Remove last line which is the page number\n",
    "        current_page = current_page.strip() + '\\n\\n'\n",
    "        document += current_page\n",
    "document = document.encode(\"ascii\", \"ignore\").decode()\n",
    "document = re.sub(' +', ' ', document).strip()"
   ]
  },
  {
   "cell_type": "code",
   "execution_count": 2,
   "metadata": {
    "scrolled": true
   },
   "outputs": [
    {
     "name": "stdout",
     "output_type": "stream",
     "text": [
      "THE NATIONAL JUDICIAL APPOINTMENTS COMMISSION ACT, 2014 \n",
      "_________ \n",
      "ARRANGEMENT OF SECTIONS \n",
      "_________ \n",
      "SECTIONS \n",
      "1. Short title and commencement. \n",
      "2. Definitions. \n",
      "3. Headquarters of Commission. \n",
      "4. Reference to Commission for filling up of vacancies. \n",
      "5. Procedure for selection of Judge of Supreme Court. \n",
      "6. Procedure for selection of Judge of High Court. \n",
      "7. Power of President to require reconsideration. \n",
      "8. Officers and employees of Commission. \n",
      "9. Procedure for transfer of Judges. \n",
      "10. Procedure to be followed by Commission in discharge of its functions. \n",
      "11. Power to make rules. \n",
      "12. Power to make regulations. \n",
      "13. Rules and regulations to be laid before Parliament. \n",
      "14. Power to remove difficulties.\n",
      "\n",
      "THE NATIONAL JUDICIAL APPOINTMENTS COMMISSION ACT, 2014 \n",
      "ACT NO. 40 OF 2014 \n",
      "[31st December, 2014.] \n",
      "An Act to regulate the procedure to be followed by the National Judicial Appointments \n",
      "Commission for recommending persons for appointment as the Chief Justice of India and \n",
      "other Judges of the Supreme Court and Chief Justices and other Judges of High Courts and \n",
      "for their transfers and for matters connected therewith or incidental thereto. \n",
      "BE it enacted by Parliament in the Sixty-fifth Year of the Republic of India as follows: \n",
      "1. Short title and commencement.(1) This Act may be called the National Judicial Appointments \n",
      "Commission Act, 2014. \n",
      "(2) It shall come into force on such date1 as the Central Government may, by notification in the \n",
      "Official Gazette, appoint. \n",
      "2. Definitions.In this Act, unless the context otherwise requires, \n",
      "(a) Chairperson means the Chairperson of the Commission; \n",
      "(b) Commission means the National Judicial Appointments Commission referred to in article \n",
      "124A of the Constitution; \n",
      "(c) High Court means the High Court in respect of which recommendation for appointment of a \n",
      "Judge is proposed to be made by the Commission; \n",
      "(d) Member means a Member of the Commission and includes its Chairperson; \n",
      "(e) prescribed means prescribed by the rules made under this Act; \n",
      "(f) regulations means the regulations made by the Commission under this Act. \n",
      "3. Headquarters of Commission.The Headquarters of the Commission shall be at Delhi. \n",
      "4. Reference to Commission for filling up of vacancies.(1)The Central Government shall, within \n",
      "a period of thirty days from the date of coming into force of this Act, intimate the vacancies existing in \n",
      "the posts of Judges in the Supreme Court and in a High Court to the Commission for making its \n",
      "recommendations to fill up such vacancies. \n",
      "(2) The Central Government shall, six months prior to the date of occurrence of any vacancy by \n",
      "reason of completion of the term of a Judge of the Supreme Court or of a High Court, make a reference to \n",
      "the Commission for making its recommendation to fill up such vacancy. \n",
      "(3) The Central Government shall, within a period of thirty days from the date of occurrence of any \n",
      "vacancy by reason of death or resignation of a Judge of the Supreme Court or of a High Court, make a \n",
      "reference to the Commission for making its recommendations to fill up such vacancy. \n",
      "5. Procedure for selection of Judge of Supreme Court.(1) The Commission shall recommend for \n",
      "appointment the senior-most Judge of the Supreme Court as the Chief Justice of India if he is considered \n",
      "fit to hold the office: \n",
      "Provided that a member of the Commission whose name is being considered for recommendation \n",
      "shall not participate in the meeting. \n",
      "(2) The Commission shall, on the basis of ability, merit and any other criteria of suitability as may be \n",
      "specified by regulations, recommend the name for appointment as a Judge of the Supreme Court from \n",
      "amongst persons who are eligible to be appointed as such under clause (3) of article 124 of the \n",
      "Constitution: \n",
      "Provided that while making recommendation for appointment of a High Court Judge, apart from \n",
      "seniority, the ability and merit of such Judge shall be considered: \n",
      " \n",
      "1. 13th April, 2015, vide notification No. S.O. 1001(E), dated by 13th April, 2015, see Gazette of India, Extraordinary, \n",
      "Part II, sec. 3(ii).\n",
      "\n",
      "Provided further that the Commission shall not recommend a person for appointment if any two \n",
      "members of the Commission do not agree for such recommendation. \n",
      "(3) The Commission may, by regulations, specify such other procedure and conditions for selection \n",
      "and appointment of a Judge of the Supreme Court as it may consider necessary. \n",
      "6. Procedure for selection of Judge of High Court.(1) The Commission shall recommend for \n",
      "appointment a Judge of a High Court to be the Chief Justice of a High Court on the basis of inter se \n",
      "seniority of High Court Judges and ability, merit and any other criteria of suitability as may be specified \n",
      "by regulations. \n",
      "(2) The Commission shall seek nomination from the Chief Justice of the concerned High Court for \n",
      "the purpose of recommending for appointment a person to be a Judge of that. \n",
      "(3) The Commission shall also on the basis of ability, merit and any other criteria of suitability as may \n",
      "be specified by regulations, nominate name for appointment as a Judge of a High Court from amongst \n",
      "persons who are eligible to be appointed as such under clause (2) of article 217 of the Constitution and \n",
      "forward such names to the Chief Justice of the concerned High Court for its views. \n",
      "(4) Before making any nomination under sub-section (2) or giving its views under sub-section (3), the \n",
      "Chief Justice of the concerned High Court shall consult two senior-most Judges of that High Court and \n",
      "such other Judges and eminent advocates of that High Court as may be specified by regulations. \n",
      "(5) After receiving views and nomination under sub-sections (2) and (3), the Commission may \n",
      "recommend for appointment the person who is found suitable on the basis of ability, merit and any other \n",
      "criteria of suitability as may be specified by regulations. \n",
      "(6) The Commission shall not recommend a person for appointment under this section if any two \n",
      "members of the Commission do not agree for such recommendation. \n",
      "(7) The Commission shall elicit in writing the views of the Governor and the Chief Minister of the \n",
      "State concerned before making such recommendation in such manner as may be specified by regulations. \n",
      "(8) The Commission may, by regulations, specify such other procedure and conditions for selection \n",
      "and appointment of a Chief Justice of a High Court and a Judge of a High Court as it may consider \n",
      "necessary. \n",
      "7. Power of President to require reconsideration.The President shall, on the recommendations \n",
      "made by the Commission, appoint the Chief Justice of India or a Judge of the Supreme Court or, as the \n",
      "case may be, the Chief Justice of a High Court or the Judge of a High Court: \n",
      "Provided that the President may, if considers necessary, require the Commission to reconsider, either \n",
      "generally or otherwise, the recommendation made by it: \n",
      "Provided further that if the Commission makes a recommendation after reconsideration in accordance \n",
      "with the provisions contained in sections 5 or 6, the President shall make the appointment accordingly. \n",
      "8.Officers and employees of Commission.(1) The Central Government may, in consultation with \n",
      "the Commission, appoint such number of officers and other employees for the discharge of functions of \n",
      "the Commission under this Act. \n",
      "(2) The terms and other conditions of service of officers and other employees of the Commission \n",
      "appointed under sub-section (1) shall be such as may be prescribed. \n",
      "(3) The Conveyor of the Commission shall be the Secretary to the Government of India in the \n",
      "Department of Justice. \n",
      "9. Procedure for transfer of Judges.The Commission shall recommend for transfer of Chief \n",
      "Justices and other Judges of High Courts from one High Court to any other High Court, and for this \n",
      "purpose, specify, by regulations, the procedure for such transfer. \n",
      "10. Procedure to be followed by Commission in discharge of its functions.(1) The Commission \n",
      "shall have the power to specify, by regulations, the procedure for the discharge of its functions.\n",
      "\n",
      "(2) The Commission shall meet at such time and place as the Chairperson may direct and observe \n",
      "such rules of procedure in regard to the transaction of business at its meetings (including the quorum at its \n",
      "meeting), as it may specify by regulations. \n",
      "11. Power to make rules.(1) The Central Government may, by notification in the Official Gazette, \n",
      "make rules to carry out the provisions of this Act. \n",
      "(2) In particular and without prejudice to the generality of the foregoing power, such rules may \n",
      "provide for all or any of the following matters, namely: \n",
      "(a) the fees and allowances payable to the eminent persons nominated under sub-clause (d) of \n",
      "clause (1) of article 124A of the Constitution; \n",
      "(b) the terms and other conditions of service of officers and other employees of the Commission \n",
      "under sub-section (2) of section 8; \n",
      "(c) any other matter which is to be, or may be, prescribed, in respect of which provision is to be \n",
      "made by the rules. \n",
      "12. Power to make regulations.(1) The Commission may, by notification in the Official Gazette, \n",
      "make regulations consistent with this Act, and the rules made thereunder, to carry out the provisions of \n",
      "this Act. \n",
      "(2) In particular, and without prejudice to the generality of the foregoing power, such regulations may \n",
      "provide for all or any of the following matters, namely: \n",
      "(a) the criteria of suitability with respect to appointment of a Judge of the Supreme Court under \n",
      "sub-section (2) of section 5; \n",
      "(b) other procedure and conditions for selection and appointment of a Judge of the Supreme Court \n",
      "under sub-section (3) of section 5; \n",
      "(c) the criteria of suitability with respect to appointment of a Judge of the High Court under \n",
      "sub-section (3) of section 6; \n",
      "(d) other Judges and eminent advocates who may be consulted by the Chief Justice under \n",
      "sub-section (4) of section 6; \n",
      "(e) the manner of eliciting views of the Governor and the Chief Minister under sub-section (7) of \n",
      "section 6; \n",
      "(f) other procedure and conditions for selection and appointment of a Judge of the High Court \n",
      "under sub-section (8) of section 6; \n",
      "(g) the procedure for transfer of Chief Justices and other Judges from one High Court to any other \n",
      "High Court under section 9; \n",
      "(h) the procedure to be followed by the Commission in the discharge of its functions under \n",
      "sub-section (1) of section 10; \n",
      "(i) the rules of procedure in regard to the transaction of business at the meetings of Commission, \n",
      "including the quorum at its meeting, under sub-section (2) of section 10; \n",
      "(j) any other matter which is required to be, or may be, specified by regulations or in respect of \n",
      "which provision is to be made by regulations. \n",
      "13.Rules and regulations to be laid before Parliament.Every rule and regulation made under this \n",
      "Act shall be laid, as soon as may be after it is made, before each House of Parliament, while it is in \n",
      "session, for a total period of thirty days, which may be comprised in one session or in two or more \n",
      "successive sessions, and if, before the expiry of the session immediately following the session or the \n",
      "successive sessions aforesaid, both Houses agree in making any modification in the rule or regulation or \n",
      "both Houses agree that the rule or regulation should not be made, the rule or regulation shall thereafter \n",
      "have effect only in such modified form or be of no effect, as the case may be; so, however, that any such\n",
      "\n",
      "modification or annulment shall be without prejudice to the validity of anything previously done under \n",
      "that rule or regulation. \n",
      "14. Power to remove difficulties.(1) If any difficulty arises in giving effect to the provisions of \n",
      "this Act, the Central Government may, after consultation with the Commission, by an order published in \n",
      "the Official Gazette, make such provisions, not inconsistent with the provisions of this Act as appear to it \n",
      "to be necessary or expedient for removing the difficulty: \n",
      "Provided that no such order shall be made after the expiry of a period of five years from the date of \n",
      "commencement of this Act. \n",
      "(2) Every order made under this section shall, as soon as may be after it is made, be laid before each \n",
      "House of Parliament. \n",
      " \n",
      "_____________\n"
     ]
    }
   ],
   "source": [
    "print(document)"
   ]
  },
  {
   "cell_type": "markdown",
   "metadata": {},
   "source": [
    "### Split the document by newline and create a List"
   ]
  },
  {
   "cell_type": "code",
   "execution_count": 3,
   "metadata": {},
   "outputs": [],
   "source": [
    "Lines = document.split('\\n')\n",
    "\n",
    "for i, line in enumerate(Lines):\n",
    "    Lines[i] = line.strip()"
   ]
  },
  {
   "cell_type": "markdown",
   "metadata": {},
   "source": [
    "### Extract Act ID and Act Title"
   ]
  },
  {
   "cell_type": "code",
   "execution_count": 4,
   "metadata": {},
   "outputs": [],
   "source": [
    "dict = {}\n",
    "\n",
    "\n",
    "#Act ID\n",
    "for line in Lines:\n",
    "    if re.match(\"^ACT\\s+NO.*\", line.strip()):\n",
    "        dict[\"Act ID\"] = line.strip()\n",
    "        break\n",
    "\n",
    "\n",
    "#Act Title\n",
    "str1 = ''\n",
    "for line in Lines:\n",
    "    if re.match(\"^_+$\", line.strip()):\n",
    "        str1 = str1.strip()\n",
    "        break\n",
    "    str1 += line.strip() + ' '\n",
    "dict[\"Act Title\"] = str1"
   ]
  },
  {
   "cell_type": "code",
   "execution_count": 5,
   "metadata": {},
   "outputs": [
    {
     "data": {
      "text/plain": [
       "{'Act ID': 'ACT NO. 40 OF 2014',\n",
       " 'Act Title': 'THE NATIONAL JUDICIAL APPOINTMENTS COMMISSION ACT, 2014'}"
      ]
     },
     "execution_count": 5,
     "metadata": {},
     "output_type": "execute_result"
    }
   ],
   "source": [
    "dict"
   ]
  },
  {
   "cell_type": "markdown",
   "metadata": {},
   "source": [
    "### Extract Act Definition"
   ]
  },
  {
   "cell_type": "code",
   "execution_count": 6,
   "metadata": {},
   "outputs": [],
   "source": [
    "#Act Definition\n",
    "str2 = ''\n",
    "flag = False\n",
    "for line in Lines:\n",
    "    if re.match(\"^an\\s+act\\s+to.*\", line.lower()):\n",
    "        flag = True\n",
    "    if re.match(\"^be\\s+it\\s+enacted\\s+by.*\", line.lower()):\n",
    "        str2 = str2.strip()\n",
    "        flag = False\n",
    "        break\n",
    "    if flag == True:\n",
    "        str2 += line.strip() + ' '\n",
    "dict[\"Act Definition\"] = str2"
   ]
  },
  {
   "cell_type": "code",
   "execution_count": 7,
   "metadata": {},
   "outputs": [
    {
     "data": {
      "text/plain": [
       "'An Act to regulate the procedure to be followed by the National Judicial Appointments Commission for recommending persons for appointment as the Chief Justice of India and other Judges of the Supreme Court and Chief Justices and other Judges of High Courts and for their transfers and for matters connected therewith or incidental thereto.'"
      ]
     },
     "execution_count": 7,
     "metadata": {},
     "output_type": "execute_result"
    }
   ],
   "source": [
    "dict[\"Act Definition\"]"
   ]
  },
  {
   "cell_type": "markdown",
   "metadata": {},
   "source": [
    "### Add to dictionary the list of sections"
   ]
  },
  {
   "cell_type": "code",
   "execution_count": 8,
   "metadata": {},
   "outputs": [],
   "source": [
    "list_of_sections = []\n",
    "flag = False\n",
    "dict['Sections'] = {}\n",
    "\n",
    "for line in Lines:\n",
    "    if line.strip() == 'SECTIONS':\n",
    "        flag = True\n",
    "    if re.match(\"^be\\s+it\\s+enacted\\s+by.*\", line.lower()):\n",
    "        break\n",
    "    if flag:\n",
    "        if re.match(\"^[0-9]+\\.\\s*[a-z].*\", line.lower()):\n",
    "            mo = re.search(r\"(([0-9]+)\\.\\s*([a-zA-Z].*))\", line)\n",
    "            sec_name = mo.group(3).strip()\n",
    "        \n",
    "            inc = 1\n",
    "            while True:\n",
    "                if sec_name[-1]!='.':\n",
    "                    sec_name = sec_name + ' ' + Lines[i+inc].strip()\n",
    "                    inc += 1\n",
    "                else:\n",
    "                    break\n",
    "\n",
    "            list_of_sections.append(sec_name)\n",
    "            \n",
    "            key = 'Section ' + mo.group(2).strip() + '.'\n",
    "            dict['Sections'][key] = {'name': sec_name, 'content': ''}"
   ]
  },
  {
   "cell_type": "code",
   "execution_count": 9,
   "metadata": {},
   "outputs": [
    {
     "data": {
      "text/plain": [
       "{'Act ID': 'ACT NO. 40 OF 2014',\n",
       " 'Act Title': 'THE NATIONAL JUDICIAL APPOINTMENTS COMMISSION ACT, 2014',\n",
       " 'Act Definition': 'An Act to regulate the procedure to be followed by the National Judicial Appointments Commission for recommending persons for appointment as the Chief Justice of India and other Judges of the Supreme Court and Chief Justices and other Judges of High Courts and for their transfers and for matters connected therewith or incidental thereto.',\n",
       " 'Sections': {'Section 1.': {'name': 'Short title and commencement.',\n",
       "   'content': ''},\n",
       "  'Section 2.': {'name': 'Definitions.', 'content': ''},\n",
       "  'Section 3.': {'name': 'Headquarters of Commission.', 'content': ''},\n",
       "  'Section 4.': {'name': 'Reference to Commission for filling up of vacancies.',\n",
       "   'content': ''},\n",
       "  'Section 5.': {'name': 'Procedure for selection of Judge of Supreme Court.',\n",
       "   'content': ''},\n",
       "  'Section 6.': {'name': 'Procedure for selection of Judge of High Court.',\n",
       "   'content': ''},\n",
       "  'Section 7.': {'name': 'Power of President to require reconsideration.',\n",
       "   'content': ''},\n",
       "  'Section 8.': {'name': 'Officers and employees of Commission.',\n",
       "   'content': ''},\n",
       "  'Section 9.': {'name': 'Procedure for transfer of Judges.', 'content': ''},\n",
       "  'Section 10.': {'name': 'Procedure to be followed by Commission in discharge of its functions.',\n",
       "   'content': ''},\n",
       "  'Section 11.': {'name': 'Power to make rules.', 'content': ''},\n",
       "  'Section 12.': {'name': 'Power to make regulations.', 'content': ''},\n",
       "  'Section 13.': {'name': 'Rules and regulations to be laid before Parliament.',\n",
       "   'content': ''},\n",
       "  'Section 14.': {'name': 'Power to remove difficulties.', 'content': ''}}}"
      ]
     },
     "execution_count": 9,
     "metadata": {},
     "output_type": "execute_result"
    }
   ],
   "source": [
    "dict"
   ]
  },
  {
   "cell_type": "markdown",
   "metadata": {},
   "source": [
    "### Create a new document for the purpose of extracting content: \n",
    "We need to create a new document without any newlines so we can detect name of sections that span in multiple lines and hence extract their content"
   ]
  },
  {
   "cell_type": "code",
   "execution_count": 10,
   "metadata": {},
   "outputs": [],
   "source": [
    "for i, line in enumerate(Lines):\n",
    "    if re.search(r\"be\\s+it\\s+enacted\\s+by.*\", line.lower())!= None:\n",
    "        start_index = i\n",
    "        break\n",
    "        \n",
    "new_list = Lines[start_index:]\n",
    "\n",
    "new_doc = ' '.join(new_list)"
   ]
  },
  {
   "cell_type": "code",
   "execution_count": 11,
   "metadata": {},
   "outputs": [
    {
     "data": {
      "text/plain": [
       "['Short title and commencement.',\n",
       " 'Definitions.',\n",
       " 'Headquarters of Commission.',\n",
       " 'Reference to Commission for filling up of vacancies.',\n",
       " 'Procedure for selection of Judge of Supreme Court.',\n",
       " 'Procedure for selection of Judge of High Court.',\n",
       " 'Power of President to require reconsideration.',\n",
       " 'Officers and employees of Commission.',\n",
       " 'Procedure for transfer of Judges.',\n",
       " 'Procedure to be followed by Commission in discharge of its functions.',\n",
       " 'Power to make rules.',\n",
       " 'Power to make regulations.',\n",
       " 'Rules and regulations to be laid before Parliament.',\n",
       " 'Power to remove difficulties.']"
      ]
     },
     "execution_count": 11,
     "metadata": {},
     "output_type": "execute_result"
    }
   ],
   "source": [
    "list_of_sections"
   ]
  },
  {
   "cell_type": "code",
   "execution_count": 17,
   "metadata": {},
   "outputs": [],
   "source": [
    "contents = []\n",
    "\n",
    "for i, section in enumerate(list_of_sections):\n",
    "    position1 = (new_doc.find(section))\n",
    "    begin = position1 + len(section)\n",
    "    if i == len(list_of_sections)-1:\n",
    "        x = new_doc[begin:]\n",
    "        contents.append(x.strip())\n",
    "    else:\n",
    "        pattern = r\"[0-9]+\\.\\s*\" + list_of_sections[i+1]\n",
    "        if re.search(pattern, new_doc):\n",
    "            end = re.search(pattern, new_doc).start()\n",
    "            x = new_doc[begin:end]\n",
    "            contents.append(x.strip())\n",
    "        else:\n",
    "            print(\"Pattern Not found!!!\")\n",
    "        "
   ]
  },
  {
   "cell_type": "code",
   "execution_count": 18,
   "metadata": {},
   "outputs": [
    {
     "data": {
      "text/plain": [
       "'The Commission shall recommend for transfer of Chief Justices and other Judges of High Courts from one High Court to any other High Court, and for this purpose, specify, by regulations, the procedure for such transfer.'"
      ]
     },
     "execution_count": 18,
     "metadata": {},
     "output_type": "execute_result"
    }
   ],
   "source": [
    "contents[8]"
   ]
  },
  {
   "cell_type": "markdown",
   "metadata": {},
   "source": [
    "### Add the content of each section to the dictionary"
   ]
  },
  {
   "cell_type": "code",
   "execution_count": 19,
   "metadata": {},
   "outputs": [],
   "source": [
    "index = 0\n",
    "for i in dict['Sections'].keys():\n",
    "    dict['Sections'][i]['content'] = contents[index]\n",
    "    index += 1"
   ]
  },
  {
   "cell_type": "code",
   "execution_count": 20,
   "metadata": {},
   "outputs": [
    {
     "data": {
      "text/plain": [
       "{'Act ID': 'ACT NO. 40 OF 2014',\n",
       " 'Act Title': 'THE NATIONAL JUDICIAL APPOINTMENTS COMMISSION ACT, 2014',\n",
       " 'Act Definition': 'An Act to regulate the procedure to be followed by the National Judicial Appointments Commission for recommending persons for appointment as the Chief Justice of India and other Judges of the Supreme Court and Chief Justices and other Judges of High Courts and for their transfers and for matters connected therewith or incidental thereto.',\n",
       " 'Sections': {'Section 1.': {'name': 'Short title and commencement.',\n",
       "   'content': '(1) This Act may be called the National Judicial Appointments Commission Act, 2014. (2) It shall come into force on such date1 as the Central Government may, by notification in the Official Gazette, appoint.'},\n",
       "  'Section 2.': {'name': 'Definitions.',\n",
       "   'content': 'In this Act, unless the context otherwise requires, (a) Chairperson means the Chairperson of the Commission; (b) Commission means the National Judicial Appointments Commission referred to in article 124A of the Constitution; (c) High Court means the High Court in respect of which recommendation for appointment of a Judge is proposed to be made by the Commission; (d) Member means a Member of the Commission and includes its Chairperson; (e) prescribed means prescribed by the rules made under this Act; (f) regulations means the regulations made by the Commission under this Act.'},\n",
       "  'Section 3.': {'name': 'Headquarters of Commission.',\n",
       "   'content': 'The Headquarters of the Commission shall be at Delhi.'},\n",
       "  'Section 4.': {'name': 'Reference to Commission for filling up of vacancies.',\n",
       "   'content': '(1)The Central Government shall, within a period of thirty days from the date of coming into force of this Act, intimate the vacancies existing in the posts of Judges in the Supreme Court and in a High Court to the Commission for making its recommendations to fill up such vacancies. (2) The Central Government shall, six months prior to the date of occurrence of any vacancy by reason of completion of the term of a Judge of the Supreme Court or of a High Court, make a reference to the Commission for making its recommendation to fill up such vacancy. (3) The Central Government shall, within a period of thirty days from the date of occurrence of any vacancy by reason of death or resignation of a Judge of the Supreme Court or of a High Court, make a reference to the Commission for making its recommendations to fill up such vacancy.'},\n",
       "  'Section 5.': {'name': 'Procedure for selection of Judge of Supreme Court.',\n",
       "   'content': '(1) The Commission shall recommend for appointment the senior-most Judge of the Supreme Court as the Chief Justice of India if he is considered fit to hold the office: Provided that a member of the Commission whose name is being considered for recommendation shall not participate in the meeting. (2) The Commission shall, on the basis of ability, merit and any other criteria of suitability as may be specified by regulations, recommend the name for appointment as a Judge of the Supreme Court from amongst persons who are eligible to be appointed as such under clause (3) of article 124 of the Constitution: Provided that while making recommendation for appointment of a High Court Judge, apart from seniority, the ability and merit of such Judge shall be considered:  1. 13th April, 2015, vide notification No. S.O. 1001(E), dated by 13th April, 2015, see Gazette of India, Extraordinary, Part II, sec. 3(ii).  Provided further that the Commission shall not recommend a person for appointment if any two members of the Commission do not agree for such recommendation. (3) The Commission may, by regulations, specify such other procedure and conditions for selection and appointment of a Judge of the Supreme Court as it may consider necessary.'},\n",
       "  'Section 6.': {'name': 'Procedure for selection of Judge of High Court.',\n",
       "   'content': '(1) The Commission shall recommend for appointment a Judge of a High Court to be the Chief Justice of a High Court on the basis of inter se seniority of High Court Judges and ability, merit and any other criteria of suitability as may be specified by regulations. (2) The Commission shall seek nomination from the Chief Justice of the concerned High Court for the purpose of recommending for appointment a person to be a Judge of that. (3) The Commission shall also on the basis of ability, merit and any other criteria of suitability as may be specified by regulations, nominate name for appointment as a Judge of a High Court from amongst persons who are eligible to be appointed as such under clause (2) of article 217 of the Constitution and forward such names to the Chief Justice of the concerned High Court for its views. (4) Before making any nomination under sub-section (2) or giving its views under sub-section (3), the Chief Justice of the concerned High Court shall consult two senior-most Judges of that High Court and such other Judges and eminent advocates of that High Court as may be specified by regulations. (5) After receiving views and nomination under sub-sections (2) and (3), the Commission may recommend for appointment the person who is found suitable on the basis of ability, merit and any other criteria of suitability as may be specified by regulations. (6) The Commission shall not recommend a person for appointment under this section if any two members of the Commission do not agree for such recommendation. (7) The Commission shall elicit in writing the views of the Governor and the Chief Minister of the State concerned before making such recommendation in such manner as may be specified by regulations. (8) The Commission may, by regulations, specify such other procedure and conditions for selection and appointment of a Chief Justice of a High Court and a Judge of a High Court as it may consider necessary.'},\n",
       "  'Section 7.': {'name': 'Power of President to require reconsideration.',\n",
       "   'content': 'The President shall, on the recommendations made by the Commission, appoint the Chief Justice of India or a Judge of the Supreme Court or, as the case may be, the Chief Justice of a High Court or the Judge of a High Court: Provided that the President may, if considers necessary, require the Commission to reconsider, either generally or otherwise, the recommendation made by it: Provided further that if the Commission makes a recommendation after reconsideration in accordance with the provisions contained in sections 5 or 6, the President shall make the appointment accordingly.'},\n",
       "  'Section 8.': {'name': 'Officers and employees of Commission.',\n",
       "   'content': '(1) The Central Government may, in consultation with the Commission, appoint such number of officers and other employees for the discharge of functions of the Commission under this Act. (2) The terms and other conditions of service of officers and other employees of the Commission appointed under sub-section (1) shall be such as may be prescribed. (3) The Conveyor of the Commission shall be the Secretary to the Government of India in the Department of Justice.'},\n",
       "  'Section 9.': {'name': 'Procedure for transfer of Judges.',\n",
       "   'content': 'The Commission shall recommend for transfer of Chief Justices and other Judges of High Courts from one High Court to any other High Court, and for this purpose, specify, by regulations, the procedure for such transfer.'},\n",
       "  'Section 10.': {'name': 'Procedure to be followed by Commission in discharge of its functions.',\n",
       "   'content': '(1) The Commission shall have the power to specify, by regulations, the procedure for the discharge of its functions.  (2) The Commission shall meet at such time and place as the Chairperson may direct and observe such rules of procedure in regard to the transaction of business at its meetings (including the quorum at its meeting), as it may specify by regulations.'},\n",
       "  'Section 11.': {'name': 'Power to make rules.',\n",
       "   'content': '(1) The Central Government may, by notification in the Official Gazette, make rules to carry out the provisions of this Act. (2) In particular and without prejudice to the generality of the foregoing power, such rules may provide for all or any of the following matters, namely: (a) the fees and allowances payable to the eminent persons nominated under sub-clause (d) of clause (1) of article 124A of the Constitution; (b) the terms and other conditions of service of officers and other employees of the Commission under sub-section (2) of section 8; (c) any other matter which is to be, or may be, prescribed, in respect of which provision is to be made by the rules.'},\n",
       "  'Section 12.': {'name': 'Power to make regulations.',\n",
       "   'content': '(1) The Commission may, by notification in the Official Gazette, make regulations consistent with this Act, and the rules made thereunder, to carry out the provisions of this Act. (2) In particular, and without prejudice to the generality of the foregoing power, such regulations may provide for all or any of the following matters, namely: (a) the criteria of suitability with respect to appointment of a Judge of the Supreme Court under sub-section (2) of section 5; (b) other procedure and conditions for selection and appointment of a Judge of the Supreme Court under sub-section (3) of section 5; (c) the criteria of suitability with respect to appointment of a Judge of the High Court under sub-section (3) of section 6; (d) other Judges and eminent advocates who may be consulted by the Chief Justice under sub-section (4) of section 6; (e) the manner of eliciting views of the Governor and the Chief Minister under sub-section (7) of section 6; (f) other procedure and conditions for selection and appointment of a Judge of the High Court under sub-section (8) of section 6; (g) the procedure for transfer of Chief Justices and other Judges from one High Court to any other High Court under section 9; (h) the procedure to be followed by the Commission in the discharge of its functions under sub-section (1) of section 10; (i) the rules of procedure in regard to the transaction of business at the meetings of Commission, including the quorum at its meeting, under sub-section (2) of section 10; (j) any other matter which is required to be, or may be, specified by regulations or in respect of which provision is to be made by regulations.'},\n",
       "  'Section 13.': {'name': 'Rules and regulations to be laid before Parliament.',\n",
       "   'content': 'Every rule and regulation made under this Act shall be laid, as soon as may be after it is made, before each House of Parliament, while it is in session, for a total period of thirty days, which may be comprised in one session or in two or more successive sessions, and if, before the expiry of the session immediately following the session or the successive sessions aforesaid, both Houses agree in making any modification in the rule or regulation or both Houses agree that the rule or regulation should not be made, the rule or regulation shall thereafter have effect only in such modified form or be of no effect, as the case may be; so, however, that any such  modification or annulment shall be without prejudice to the validity of anything previously done under that rule or regulation.'},\n",
       "  'Section 14.': {'name': 'Power to remove difficulties.',\n",
       "   'content': '(1) If any difficulty arises in giving effect to the provisions of this Act, the Central Government may, after consultation with the Commission, by an order published in the Official Gazette, make such provisions, not inconsistent with the provisions of this Act as appear to it to be necessary or expedient for removing the difficulty: Provided that no such order shall be made after the expiry of a period of five years from the date of commencement of this Act. (2) Every order made under this section shall, as soon as may be after it is made, be laid before each House of Parliament.  _____________'}}}"
      ]
     },
     "execution_count": 20,
     "metadata": {},
     "output_type": "execute_result"
    }
   ],
   "source": [
    "dict"
   ]
  },
  {
   "cell_type": "markdown",
   "metadata": {},
   "source": [
    "### Create a json format using json.dumps() and write it to a file"
   ]
  },
  {
   "cell_type": "code",
   "execution_count": 21,
   "metadata": {},
   "outputs": [],
   "source": [
    "import json\n",
    "\n",
    "json_object = json.dumps(dict, indent = 4)   \n",
    "\n",
    "f = open(\"FileToJSON.json\",\"w\")\n",
    "f.write(json_object)\n",
    "f.close()"
   ]
  },
  {
   "cell_type": "code",
   "execution_count": null,
   "metadata": {},
   "outputs": [],
   "source": []
  }
 ],
 "metadata": {
  "kernelspec": {
   "display_name": "Python 3",
   "language": "python",
   "name": "python3"
  },
  "language_info": {
   "codemirror_mode": {
    "name": "ipython",
    "version": 3
   },
   "file_extension": ".py",
   "mimetype": "text/x-python",
   "name": "python",
   "nbconvert_exporter": "python",
   "pygments_lexer": "ipython3",
   "version": "3.7.4"
  }
 },
 "nbformat": 4,
 "nbformat_minor": 2
}
