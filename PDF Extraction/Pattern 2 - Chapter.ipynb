{
 "cells": [
  {
   "cell_type": "markdown",
   "metadata": {},
   "source": [
    "### Use pdfplumber to convert pdf to text"
   ]
  },
  {
   "cell_type": "code",
   "execution_count": 1,
   "metadata": {},
   "outputs": [],
   "source": [
    "import pdfplumber\n",
    "import re\n",
    "\n",
    "document = ''\n",
    "with pdfplumber.open(r'A1991-11.pdf') as pdf:\n",
    "    list_of_pages = pdf.pages\n",
    "    for i in range(len(list_of_pages)):\n",
    "        current_page = pdf.pages[i].extract_text().strip()\n",
    "        current_page = \"\\n\".join(current_page.split(\"\\n\")[0:-1])    #Remove last line which is the page number\n",
    "        current_page = current_page.strip() + '\\n\\n'\n",
    "        document += current_page\n",
    "document = document.encode(\"ascii\", \"ignore\").decode()\n",
    "document = re.sub(' +', ' ', document).strip()"
   ]
  },
  {
   "cell_type": "code",
   "execution_count": 2,
   "metadata": {
    "scrolled": false
   },
   "outputs": [
    {
     "name": "stdout",
     "output_type": "stream",
     "text": [
      "THE ELECTION COMMISSION (CONDITIONS OF SERVICE OF ELECTION \n",
      "COMMISSIONERS AND TRANSACTION OF BUSINESS) ACT, 1991 \n",
      "_________ \n",
      "ARRANGEMENT OF SECTIONS \n",
      "_______ \n",
      "CHAPTER I \n",
      "PRELIMINARY \n",
      "SECTIONS \n",
      "1. Short title. \n",
      "2. Definitions. \n",
      "CHAPTER II \n",
      "SALARY AND OTHER CONDITIONS OF SERVICE OF THE CHIEF ELECTION \n",
      "COMMISSIONER AND ELECTION COMMISSIONERS \n",
      "3. Salary. \n",
      "4. Term of office. \n",
      "5. Leave. \n",
      "6. Pension payable to Election Commissioners. \n",
      "7. Right to subscribe to General Provident Fund. \n",
      "8. Other conditions of service. \n",
      "CHAPTER III \n",
      "TRANSACTION OF BUSINESS OF ELECTION COMMISSION \n",
      "9. Transaction of business of Election Commission. \n",
      "10. Disposal of business by Election Commission.\n",
      "\n",
      "2[THE ELECTION COMMISSION (CONDITIONS OF SERVICE OF ELECTION \n",
      "COMMISSIONERS AND TRANSACTION OF BUSINESS)] ACT, 1991 \n",
      "ACT NO. 11 OF 1991 \n",
      "[25th January, 1991.] \n",
      "An Act to determine the conditions of service of the Chief Election Commissioner and other \n",
      "Election Commissioners 1[and to provide for the procedure for transaction of business by the \n",
      "Election Commission and for matters] connected therewith or incidental thereto. \n",
      "BE it enacted by Parliament in the Forty-first Year of the Republic of India as follows: \n",
      "CHAPTER I \n",
      "PRELIMINARY \n",
      "1. Short title.This Act may be called 2[the Election Commission (Conditions of Service of Election \n",
      "Commissioners and Transaction of Business)] Act, 1991. \n",
      "2. Definitions.In this Act, unless the context otherwise requires, \n",
      "(a) Chief Election Commissioner means the Chief Election Commissioner appointed under \n",
      "articles 324 of the Constitution; \n",
      "3[(b) Election Commission means the Election Commission referred to in article 324 of the \n",
      "Constitution;] \n",
      "4[(c)]Election Commissioner means any other Election Commissioner appointed under \n",
      "article 324 of the Constitution. \n",
      "CHAPTER II \n",
      "SALARY AND OTHER CONDITIONS OF SERVICE OF THE CHIEF ELECTION \n",
      "COMMISSIONER AND ELECTION COMMISSIONERS \n",
      "3. Salary.5***There shall be paid to the Chief Election Commissioner 6[and other Election \n",
      "Commissioners] a salary which is equal to the salary of a Judge of the Supreme Court: \n",
      "7* * * * * \n",
      "Provided that if a person who, immediately before the date of assuming office as the Chief Election \n",
      "Commissioner or, as the case maybe, an Election Commissioner, was in receipt of, or, being eligible so \n",
      "to do, had election to draw, a pension(other than a disability or wound pension) in respect of any \n",
      "previous service under the Government of the Union or under the Government of a State, his salary in \n",
      "respect of service as the Chief Election Commissioner or, as the case may be, an Election Commissioner \n",
      "shall be reduced \n",
      "(a) by the amount of that pension; and \n",
      "(b) if he had, before assuming office, received, in lieu of a portion of the pension due to him in \n",
      "respect of such previous service, the commuted value thereof, by the amount of that portion of the \n",
      "pension. \n",
      " \n",
      "1. Subs by Act 4 of 1994, s. 2, for and for matters (w.e.f. 1-10-1993). \n",
      "2. Subs by s. 3, ibid., for the Chief Election Commissioner and other Election Commissioners (Conditions of Service) \n",
      "(w.e.f. 1-10-1993) \n",
      "3. Ins. by s. 4, ibid. (w.e.f. 1-10-1993). \n",
      "4. Clause (b) shall be re-lettered as clause (c) by s. 4, ibid. (w.e.f. 1-10-1993). \n",
      "5. The brackets and figure (1) omitted by s. 5, ibid.(w.e.f. 1-10-1993). \n",
      "6. Ins. by s. 5, ibid. (w.e.f. 1-10-1993). \n",
      "7. Certain brackets, figure and words omitted by s. 5, ibid. (w.e.f. 1-10-1993).\n",
      "\n",
      "4. Term of office.The Chief Election Commissioner or an Election Commissioner shall hold office \n",
      "for a term of six years from the date on which he assumes his office: \n",
      "1[Provided that where the Chief Election Commissioner or an Election Commissioner attains the age \n",
      "of sixty-five years before the expiry of the said term of six years, he shall vacate his office on the date on \n",
      "which he attains the said age:] \n",
      "Provided further that the Chief Election Commissioner or an Election Commissioner may, at any \n",
      "time, by writing under his hand addressed to the President, resign his office. \n",
      "Explanation.For the purpose of this section, the term of six years in respect of the Chief \n",
      "Election Commissioner or an Election Commissioner holding office immediately before the \n",
      "commencement of this Act, shall be computed from the date on which he had assumed office. \n",
      "5. Leave.(1) A person who, immediately before the date of assuming office as the Chief Election \n",
      "Commissioner or an Election Commissioner, was in service of Government may be granted during his \n",
      "tenure of office but not thereafter, leave in accordance with the rules for the time being applicable to the \n",
      "Service to which he belonged before such date and he shall be entitled to carry forward the amount of \n",
      "leave standing at his credit on such date, notwithstanding any thing contained in section 6. \n",
      "(2) Any other person who is appointed as the Chief Election Commissioner or an Election \n",
      "Commissioner may be granted leave in accordance with such rules as are for the time being applicable \n",
      "to a member of the Indian Administrative Service. \n",
      "(3) The power to grant or refuse leave to the Chief Election Commissioner or an Election \n",
      "Commissioner and to revoke or curtail leave granted to him, shall vest in the President. \n",
      "6. Pension payable to Election Commissioners.(1) A person who, immediately before the date of \n",
      "assuming office as the Chief Election Commissioner or an Election Commissioner was in service of \n",
      "Government, shall be deemed to have retired from service on the date on which he enters upon office \n",
      "as the Chief Election Commissioner or an Election Commissioner but his subsequent service as the \n",
      "Chief Election Commissioner or an Election Commissioner shall be reckoned as continuing approved \n",
      "service counting for pension in Service to which he belonged. \n",
      "(2) Where the Chief Election Commissioner 2[or an Election Commissioner] demits office [whether \n",
      "in any manner specified in 3[sub-section (3)] or by resignation], he shall, on such demission be entitled \n",
      "to \n",
      "(a) a pension which is equal to the pension payable to a Judge of the Supreme Court in \n",
      "accordance with the provisions of Part III of the Schedule to the Supreme Court Judges (Conditions \n",
      "of Service) Act,1958 (41 of 1958), as amended from time to time; and \n",
      "(b) such pension (including commutation of pension), family pension and gratuity as are \n",
      "admissible to a Judge of the Supreme Court under the said Act and the rules made thereunder, as \n",
      "amended from time to time. \n",
      "4* * * * * \n",
      "5[(3)]Except where the Chief Election Commissioner or an Election Commissioner demits office by \n",
      "resignation, he shall be deemed, for the purpose of this Act, to have demitted his office if, and only if, \n",
      "(a) he has completed the term of office specified in section 4,or \n",
      "(b) he has attained the age of sixty-five years, 6*** or \n",
      "(c) his demission of office is medically certified to be necessitated by ill-health. \n",
      " \n",
      "1. Subs by Act 4 of 1994, s. 6, for the first proviso (w.e.f. 1-10-1993). \n",
      "2. Ins. by s. 7, ibid. (w.e.f. 1-10-1993). \n",
      "3. Subs by s. 7, ibid., for sub-section (4) (w.e.f. 1-10-1993). \n",
      "4. Sub-section (3) omitted by s. 7, ibid. (w.e.f. 1-10-1993). \n",
      "5. Sub-section (4) shall be re-numbered as sub-section (3) by s. 7, ibid. (w.e.f. 1-10-1993). \n",
      "6. The words or as the case may be, sixty-two years, omitted by s. 7, ibid. (w.e.f 1-10-1993).\n",
      "\n",
      "7. Right to subscribe to General Provident Fund.Every person holding office as the Chief \n",
      "Election Commissioner or an Election Commissioner shall be entitled to subscribe to the General \n",
      "Provident Fund (Central Services). \n",
      "8. Other conditions of service.Save as otherwise provided in this Act, the conditions of service \n",
      "relating to travelling allowance, provision of rent-free residence and exemption from payment of \n",
      "income-tax on the value of such rent-free residence, conveyance facilities, sumptuary allowance, medical \n",
      "facilities and such other conditions of service as are, 1[for the time being, applicable to a Judge of the \n",
      "Supreme Court under Chapter IV of the Supreme Court Judges (Conditions of Service) Act, 1958 (41 of \n",
      "1958) and the rules made thereunder, shall, so far as may be, apply to the Chief Election Commissioner \n",
      "and other Election Commissioners]. \n",
      "2[CHAPTER III \n",
      "TRANSACTION OF BUSINESS OF ELECTION COMMISSION \n",
      "9. Transaction of business of Election Commission.The business of the Election Commission \n",
      "shall be transacted in accordance with the provisions of this Act. \n",
      "10. Disposal of business by Election Commission.(1) The Election Commission may, by \n",
      "unanimous decision, regulate the procedure for transaction of its business as also allocation of its business \n",
      "amongst the Chief Election Commissioner and other Election Commissioners. \n",
      "(2) Save as provided in sub-section (1), all business of the Election Commission shall, as far as \n",
      "possible, be transacted unanimously. \n",
      "(3) Subject to the provisions of sub-section (2), if the Chief Election Commissioner and other \n",
      "Election Commissioners differ in opinion on any matter, such matter shall be decided according to the \n",
      "opinion of the majority.] \n",
      " \n",
      "1. Subs. by Act 4 of 1994, s. 8, for certain words (w.e.f. 1-10-1993). \n",
      "2. Ins. by s. 9, ibid. (w.e.f. 1-10-1993).\n"
     ]
    }
   ],
   "source": [
    "print(document)"
   ]
  },
  {
   "cell_type": "markdown",
   "metadata": {},
   "source": [
    "### Split the document by newline and create a List"
   ]
  },
  {
   "cell_type": "code",
   "execution_count": 3,
   "metadata": {},
   "outputs": [],
   "source": [
    "Lines = document.split('\\n')\n",
    "\n",
    "for i, line in enumerate(Lines):\n",
    "    Lines[i] = line.strip()"
   ]
  },
  {
   "cell_type": "markdown",
   "metadata": {},
   "source": [
    "### Extract Act ID and Act Title"
   ]
  },
  {
   "cell_type": "code",
   "execution_count": 4,
   "metadata": {},
   "outputs": [],
   "source": [
    "dict = {}\n",
    "\n",
    "\n",
    "#Act ID\n",
    "for line in Lines:\n",
    "    if re.match(\"^ACT\\s+NO.*\", line.strip()):\n",
    "        dict[\"Act ID\"] = line.strip()\n",
    "        break\n",
    "\n",
    "\n",
    "#Act Title\n",
    "str1 = ''\n",
    "for line in Lines:\n",
    "    if re.match(\"^_+$\", line.strip()):\n",
    "        str1 = str1.strip()\n",
    "        break\n",
    "    str1 += line.strip() + ' '\n",
    "dict[\"Act Title\"] = str1"
   ]
  },
  {
   "cell_type": "code",
   "execution_count": 5,
   "metadata": {},
   "outputs": [
    {
     "data": {
      "text/plain": [
       "{'Act ID': 'ACT NO. 11 OF 1991',\n",
       " 'Act Title': 'THE ELECTION COMMISSION (CONDITIONS OF SERVICE OF ELECTION COMMISSIONERS AND TRANSACTION OF BUSINESS) ACT, 1991'}"
      ]
     },
     "execution_count": 5,
     "metadata": {},
     "output_type": "execute_result"
    }
   ],
   "source": [
    "dict"
   ]
  },
  {
   "cell_type": "markdown",
   "metadata": {},
   "source": [
    "### Extract Act Definition"
   ]
  },
  {
   "cell_type": "code",
   "execution_count": 6,
   "metadata": {},
   "outputs": [],
   "source": [
    "#Act Definition\n",
    "str2 = ''\n",
    "flag = False\n",
    "for line in Lines:\n",
    "    if re.match(\"^an\\s+act\\s+to.*\", line.lower()):\n",
    "        flag = True\n",
    "    if re.match(\"^be\\s+it\\s+enacted\\s+by.*\", line.lower()):\n",
    "        str2 = str2.strip()\n",
    "        flag = False\n",
    "        break\n",
    "    if flag == True:\n",
    "        str2 += line.strip() + ' '\n",
    "dict[\"Act Definition\"] = str2"
   ]
  },
  {
   "cell_type": "code",
   "execution_count": 7,
   "metadata": {},
   "outputs": [
    {
     "data": {
      "text/plain": [
       "'An Act to determine the conditions of service of the Chief Election Commissioner and other Election Commissioners 1[and to provide for the procedure for transaction of business by the Election Commission and for matters] connected therewith or incidental thereto.'"
      ]
     },
     "execution_count": 7,
     "metadata": {},
     "output_type": "execute_result"
    }
   ],
   "source": [
    "dict[\"Act Definition\"]"
   ]
  },
  {
   "cell_type": "markdown",
   "metadata": {},
   "source": [
    "### Add to dictionary the list of chapters and sections"
   ]
  },
  {
   "cell_type": "code",
   "execution_count": 8,
   "metadata": {},
   "outputs": [],
   "source": [
    "list_of_chapters = []\n",
    "list_of_sections = []\n",
    "flag = False\n",
    "count = 0\n",
    "\n",
    "dict['Chapters'] = {}\n",
    "\n",
    "for i, line in enumerate(Lines):\n",
    "    if re.match(\"^chapter.*\", line.lower()):\n",
    "        key1 = line.strip()\n",
    "        chap_name = Lines[i+1].strip()\n",
    "        \n",
    "        inc = 2\n",
    "        while True:\n",
    "            if re.match(\"^[0-9]+\\.\\s*[a-z].*\", Lines[i+inc].lower()):\n",
    "                break\n",
    "            elif Lines[i+inc].strip() == 'SECTIONS':\n",
    "                inc += 1\n",
    "                continue\n",
    "            else:\n",
    "                chap_name = chap_name + ' ' + Lines[i+inc].strip()\n",
    "                inc += 1\n",
    "\n",
    "        chap_name = chap_name.strip()\n",
    "        list_of_chapters.append(chap_name)\n",
    "        dict['Chapters'][key1] = {'name': chap_name, 'Sections': {}}\n",
    "        \n",
    "    if re.match(\"^be\\s+it\\s+enacted\\s+by.*\", line.lower()):\n",
    "        count = 1\n",
    "        break\n",
    "    \n",
    "    if re.match(\"^[0-9]+\\.\\s*[a-z].*\", line.lower()):\n",
    "        mo = re.search(r\"(([0-9]+)\\.\\s*([a-zA-Z].*))\", line)\n",
    "        sec_name = mo.group(3).strip()\n",
    "        \n",
    "        inc = 1\n",
    "        while True:\n",
    "            if sec_name[-1]!='.':\n",
    "                sec_name = sec_name + ' ' + Lines[i+inc].strip()\n",
    "                inc += 1\n",
    "            else:\n",
    "                break\n",
    "        \n",
    "        list_of_sections.append(sec_name)\n",
    "        key2 = 'Section ' + mo.group(2).strip() + '.'\n",
    "        dict['Chapters'][key1]['Sections'][key2] = {'name': sec_name, 'content': ''}"
   ]
  },
  {
   "cell_type": "code",
   "execution_count": 9,
   "metadata": {},
   "outputs": [
    {
     "data": {
      "text/plain": [
       "{'Act ID': 'ACT NO. 11 OF 1991',\n",
       " 'Act Title': 'THE ELECTION COMMISSION (CONDITIONS OF SERVICE OF ELECTION COMMISSIONERS AND TRANSACTION OF BUSINESS) ACT, 1991',\n",
       " 'Act Definition': 'An Act to determine the conditions of service of the Chief Election Commissioner and other Election Commissioners 1[and to provide for the procedure for transaction of business by the Election Commission and for matters] connected therewith or incidental thereto.',\n",
       " 'Chapters': {'CHAPTER I': {'name': 'PRELIMINARY',\n",
       "   'Sections': {'Section 1.': {'name': 'Short title.', 'content': ''},\n",
       "    'Section 2.': {'name': 'Definitions.', 'content': ''}}},\n",
       "  'CHAPTER II': {'name': 'SALARY AND OTHER CONDITIONS OF SERVICE OF THE CHIEF ELECTION COMMISSIONER AND ELECTION COMMISSIONERS',\n",
       "   'Sections': {'Section 3.': {'name': 'Salary.', 'content': ''},\n",
       "    'Section 4.': {'name': 'Term of office.', 'content': ''},\n",
       "    'Section 5.': {'name': 'Leave.', 'content': ''},\n",
       "    'Section 6.': {'name': 'Pension payable to Election Commissioners.',\n",
       "     'content': ''},\n",
       "    'Section 7.': {'name': 'Right to subscribe to General Provident Fund.',\n",
       "     'content': ''},\n",
       "    'Section 8.': {'name': 'Other conditions of service.', 'content': ''}}},\n",
       "  'CHAPTER III': {'name': 'TRANSACTION OF BUSINESS OF ELECTION COMMISSION',\n",
       "   'Sections': {'Section 9.': {'name': 'Transaction of business of Election Commission.',\n",
       "     'content': ''},\n",
       "    'Section 10.': {'name': 'Disposal of business by Election Commission.',\n",
       "     'content': ''}}}}}"
      ]
     },
     "execution_count": 9,
     "metadata": {},
     "output_type": "execute_result"
    }
   ],
   "source": [
    "dict"
   ]
  },
  {
   "cell_type": "markdown",
   "metadata": {},
   "source": [
    "### Create a new document for the purpose of extracting content: \n",
    "We need to create a new document without any newlines so we can detect name of sections that span in multiple lines and hence extract their content"
   ]
  },
  {
   "cell_type": "code",
   "execution_count": 10,
   "metadata": {},
   "outputs": [],
   "source": [
    "start_index = -1\n",
    "for i, line in enumerate(Lines):\n",
    "    if re.search(r\"be\\s+it\\s+enacted\\s+by.*\", line.lower())!= None:\n",
    "        start_index = i\n",
    "        break\n",
    "\n",
    "new_list = Lines[start_index:]\n",
    "\n",
    "for i, line in enumerate(new_list):\n",
    "    if re.search(r\"THE\\sSCHEDULE\", line.strip())!= None:\n",
    "        end_index = i\n",
    "        new_list = new_list[:end_index]\n",
    "        break\n",
    "\n",
    "index = 0\n",
    "while index < len(new_list):\n",
    "    # check if CHAPTER or its name is in the line\n",
    "    if re.search(r\"^(\\d+\\[)?\\s*[A-Z\\s]+$\", new_list[index].strip())!= None:\n",
    "        # remove it\n",
    "        del(new_list[index])\n",
    "    else:\n",
    "        index += 1\n",
    "\n",
    "new_doc = ' '.join(new_list)"
   ]
  },
  {
   "cell_type": "code",
   "execution_count": 11,
   "metadata": {},
   "outputs": [
    {
     "data": {
      "text/plain": [
       "['Short title.',\n",
       " 'Definitions.',\n",
       " 'Salary.',\n",
       " 'Term of office.',\n",
       " 'Leave.',\n",
       " 'Pension payable to Election Commissioners.',\n",
       " 'Right to subscribe to General Provident Fund.',\n",
       " 'Other conditions of service.',\n",
       " 'Transaction of business of Election Commission.',\n",
       " 'Disposal of business by Election Commission.']"
      ]
     },
     "execution_count": 11,
     "metadata": {},
     "output_type": "execute_result"
    }
   ],
   "source": [
    "list_of_sections"
   ]
  },
  {
   "cell_type": "code",
   "execution_count": 12,
   "metadata": {},
   "outputs": [],
   "source": [
    "contents = []\n",
    "\n",
    "for i, section in enumerate(list_of_sections):\n",
    "    position1 = (new_doc.find(section))\n",
    "    begin = position1 + len(section)\n",
    "    if i == len(list_of_sections)-1:\n",
    "        x = new_doc[begin:]\n",
    "        contents.append(x.strip())\n",
    "    else:\n",
    "        pattern = r\"[0-9]+\\.\\s*\" + list_of_sections[i+1]\n",
    "        if re.search(pattern, new_doc):\n",
    "            end = re.search(pattern, new_doc).start()\n",
    "            x = new_doc[begin:end]\n",
    "            contents.append(x.strip())\n",
    "        else:\n",
    "            print(section + \"    PATTERN NOT FOUND!!!\")        "
   ]
  },
  {
   "cell_type": "code",
   "execution_count": 13,
   "metadata": {},
   "outputs": [
    {
     "data": {
      "text/plain": [
       "'This Act may be called 2[the Election Commission (Conditions of Service of Election Commissioners and Transaction of Business)] Act, 1991.'"
      ]
     },
     "execution_count": 13,
     "metadata": {},
     "output_type": "execute_result"
    }
   ],
   "source": [
    "contents[0]"
   ]
  },
  {
   "cell_type": "markdown",
   "metadata": {},
   "source": [
    "### Add the content of each section to the dictionary"
   ]
  },
  {
   "cell_type": "code",
   "execution_count": 14,
   "metadata": {},
   "outputs": [],
   "source": [
    "index = 0\n",
    "for i in dict['Chapters'].keys():\n",
    "    for j in dict['Chapters'][i]['Sections'].keys():\n",
    "        dict['Chapters'][i]['Sections'][j]['content'] = contents[index]\n",
    "        index += 1"
   ]
  },
  {
   "cell_type": "code",
   "execution_count": 15,
   "metadata": {},
   "outputs": [
    {
     "data": {
      "text/plain": [
       "{'Act ID': 'ACT NO. 11 OF 1991',\n",
       " 'Act Title': 'THE ELECTION COMMISSION (CONDITIONS OF SERVICE OF ELECTION COMMISSIONERS AND TRANSACTION OF BUSINESS) ACT, 1991',\n",
       " 'Act Definition': 'An Act to determine the conditions of service of the Chief Election Commissioner and other Election Commissioners 1[and to provide for the procedure for transaction of business by the Election Commission and for matters] connected therewith or incidental thereto.',\n",
       " 'Chapters': {'CHAPTER I': {'name': 'PRELIMINARY',\n",
       "   'Sections': {'Section 1.': {'name': 'Short title.',\n",
       "     'content': 'This Act may be called 2[the Election Commission (Conditions of Service of Election Commissioners and Transaction of Business)] Act, 1991.'},\n",
       "    'Section 2.': {'name': 'Definitions.',\n",
       "     'content': 'In this Act, unless the context otherwise requires, (a) Chief Election Commissioner means the Chief Election Commissioner appointed under articles 324 of the Constitution; 3[(b) Election Commission means the Election Commission referred to in article 324 of the Constitution;] 4[(c)]Election Commissioner means any other Election Commissioner appointed under article 324 of the Constitution.'}}},\n",
       "  'CHAPTER II': {'name': 'SALARY AND OTHER CONDITIONS OF SERVICE OF THE CHIEF ELECTION COMMISSIONER AND ELECTION COMMISSIONERS',\n",
       "   'Sections': {'Section 3.': {'name': 'Salary.',\n",
       "     'content': '5***There shall be paid to the Chief Election Commissioner 6[and other Election Commissioners] a salary which is equal to the salary of a Judge of the Supreme Court: 7* * * * * Provided that if a person who, immediately before the date of assuming office as the Chief Election Commissioner or, as the case maybe, an Election Commissioner, was in receipt of, or, being eligible so to do, had election to draw, a pension(other than a disability or wound pension) in respect of any previous service under the Government of the Union or under the Government of a State, his salary in respect of service as the Chief Election Commissioner or, as the case may be, an Election Commissioner shall be reduced (a) by the amount of that pension; and (b) if he had, before assuming office, received, in lieu of a portion of the pension due to him in respect of such previous service, the commuted value thereof, by the amount of that portion of the pension.  1. Subs by Act 4 of 1994, s. 2, for and for matters (w.e.f. 1-10-1993). 2. Subs by s. 3, ibid., for the Chief Election Commissioner and other Election Commissioners (Conditions of Service) (w.e.f. 1-10-1993) 3. Ins. by s. 4, ibid. (w.e.f. 1-10-1993). 4. Clause (b) shall be re-lettered as clause (c) by s. 4, ibid. (w.e.f. 1-10-1993). 5. The brackets and figure (1) omitted by s. 5, ibid.(w.e.f. 1-10-1993). 6. Ins. by s. 5, ibid. (w.e.f. 1-10-1993). 7. Certain brackets, figure and words omitted by s. 5, ibid. (w.e.f. 1-10-1993).'},\n",
       "    'Section 4.': {'name': 'Term of office.',\n",
       "     'content': 'The Chief Election Commissioner or an Election Commissioner shall hold office for a term of six years from the date on which he assumes his office: 1[Provided that where the Chief Election Commissioner or an Election Commissioner attains the age of sixty-five years before the expiry of the said term of six years, he shall vacate his office on the date on which he attains the said age:] Provided further that the Chief Election Commissioner or an Election Commissioner may, at any time, by writing under his hand addressed to the President, resign his office. Explanation.For the purpose of this section, the term of six years in respect of the Chief Election Commissioner or an Election Commissioner holding office immediately before the commencement of this Act, shall be computed from the date on which he had assumed office.'},\n",
       "    'Section 5.': {'name': 'Leave.',\n",
       "     'content': '(1) A person who, immediately before the date of assuming office as the Chief Election Commissioner or an Election Commissioner, was in service of Government may be granted during his tenure of office but not thereafter, leave in accordance with the rules for the time being applicable to the Service to which he belonged before such date and he shall be entitled to carry forward the amount of leave standing at his credit on such date, notwithstanding any thing contained in section 6. (2) Any other person who is appointed as the Chief Election Commissioner or an Election Commissioner may be granted leave in accordance with such rules as are for the time being applicable to a member of the Indian Administrative Service. (3) The power to grant or refuse leave to the Chief Election Commissioner or an Election Commissioner and to revoke or curtail leave granted to him, shall vest in the President.'},\n",
       "    'Section 6.': {'name': 'Pension payable to Election Commissioners.',\n",
       "     'content': '(1) A person who, immediately before the date of assuming office as the Chief Election Commissioner or an Election Commissioner was in service of Government, shall be deemed to have retired from service on the date on which he enters upon office as the Chief Election Commissioner or an Election Commissioner but his subsequent service as the Chief Election Commissioner or an Election Commissioner shall be reckoned as continuing approved service counting for pension in Service to which he belonged. (2) Where the Chief Election Commissioner 2[or an Election Commissioner] demits office [whether in any manner specified in 3[sub-section (3)] or by resignation], he shall, on such demission be entitled to (a) a pension which is equal to the pension payable to a Judge of the Supreme Court in accordance with the provisions of Part III of the Schedule to the Supreme Court Judges (Conditions of Service) Act,1958 (41 of 1958), as amended from time to time; and (b) such pension (including commutation of pension), family pension and gratuity as are admissible to a Judge of the Supreme Court under the said Act and the rules made thereunder, as amended from time to time. 4* * * * * 5[(3)]Except where the Chief Election Commissioner or an Election Commissioner demits office by resignation, he shall be deemed, for the purpose of this Act, to have demitted his office if, and only if, (a) he has completed the term of office specified in section 4,or (b) he has attained the age of sixty-five years, 6*** or (c) his demission of office is medically certified to be necessitated by ill-health.  1. Subs by Act 4 of 1994, s. 6, for the first proviso (w.e.f. 1-10-1993). 2. Ins. by s. 7, ibid. (w.e.f. 1-10-1993). 3. Subs by s. 7, ibid., for sub-section (4) (w.e.f. 1-10-1993). 4. Sub-section (3) omitted by s. 7, ibid. (w.e.f. 1-10-1993). 5. Sub-section (4) shall be re-numbered as sub-section (3) by s. 7, ibid. (w.e.f. 1-10-1993). 6. The words or as the case may be, sixty-two years, omitted by s. 7, ibid. (w.e.f 1-10-1993).'},\n",
       "    'Section 7.': {'name': 'Right to subscribe to General Provident Fund.',\n",
       "     'content': 'Every person holding office as the Chief Election Commissioner or an Election Commissioner shall be entitled to subscribe to the General Provident Fund (Central Services).'},\n",
       "    'Section 8.': {'name': 'Other conditions of service.',\n",
       "     'content': 'Save as otherwise provided in this Act, the conditions of service relating to travelling allowance, provision of rent-free residence and exemption from payment of income-tax on the value of such rent-free residence, conveyance facilities, sumptuary allowance, medical facilities and such other conditions of service as are, 1[for the time being, applicable to a Judge of the Supreme Court under Chapter IV of the Supreme Court Judges (Conditions of Service) Act, 1958 (41 of 1958) and the rules made thereunder, shall, so far as may be, apply to the Chief Election Commissioner and other Election Commissioners].'}}},\n",
       "  'CHAPTER III': {'name': 'TRANSACTION OF BUSINESS OF ELECTION COMMISSION',\n",
       "   'Sections': {'Section 9.': {'name': 'Transaction of business of Election Commission.',\n",
       "     'content': 'The business of the Election Commission shall be transacted in accordance with the provisions of this Act.'},\n",
       "    'Section 10.': {'name': 'Disposal of business by Election Commission.',\n",
       "     'content': '(1) The Election Commission may, by unanimous decision, regulate the procedure for transaction of its business as also allocation of its business amongst the Chief Election Commissioner and other Election Commissioners. (2) Save as provided in sub-section (1), all business of the Election Commission shall, as far as possible, be transacted unanimously. (3) Subject to the provisions of sub-section (2), if the Chief Election Commissioner and other Election Commissioners differ in opinion on any matter, such matter shall be decided according to the opinion of the majority.]  1. Subs. by Act 4 of 1994, s. 8, for certain words (w.e.f. 1-10-1993). 2. Ins. by s. 9, ibid. (w.e.f. 1-10-1993).'}}}}}"
      ]
     },
     "execution_count": 15,
     "metadata": {},
     "output_type": "execute_result"
    }
   ],
   "source": [
    "dict"
   ]
  },
  {
   "cell_type": "markdown",
   "metadata": {},
   "source": [
    "### Create a json format using json.dumps() and write it to a file"
   ]
  },
  {
   "cell_type": "code",
   "execution_count": 16,
   "metadata": {},
   "outputs": [],
   "source": [
    "import json\n",
    "\n",
    "json_object = json.dumps(dict, indent = 4)   \n",
    "\n",
    "f = open(\"FileToJSON.json\",\"w\")\n",
    "f.write(json_object)\n",
    "f.close()"
   ]
  },
  {
   "cell_type": "code",
   "execution_count": null,
   "metadata": {},
   "outputs": [],
   "source": []
  }
 ],
 "metadata": {
  "kernelspec": {
   "display_name": "Python 3",
   "language": "python",
   "name": "python3"
  },
  "language_info": {
   "codemirror_mode": {
    "name": "ipython",
    "version": 3
   },
   "file_extension": ".py",
   "mimetype": "text/x-python",
   "name": "python",
   "nbconvert_exporter": "python",
   "pygments_lexer": "ipython3",
   "version": "3.7.4"
  }
 },
 "nbformat": 4,
 "nbformat_minor": 2
}
